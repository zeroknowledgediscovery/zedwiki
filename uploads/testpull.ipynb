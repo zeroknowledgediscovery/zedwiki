{
 "cells": [
  {
   "cell_type": "code",
   "execution_count": 69,
   "metadata": {},
   "outputs": [],
   "source": [
    "import pickle\n",
    "import argparse\n",
    "\n",
    "from Bio import Entrez\n",
    "from Bio import SeqIO\n",
    "import numpy as np\n",
    "import pandas as pd\n",
    "\n",
    "def load_pickled(file_name):\n",
    "    with open(file_name, 'rb') as f:\n",
    "        return pickle.load(f)\n",
    "    \n",
    "def save_pickled(item, file_name):\n",
    "    with open(file_name, 'wb') as f:\n",
    "        pickle.dump(item, f)\n",
    "\n",
    "def getRecord(search_term, retmax=10, database=\"nucleotide\"):\n",
    "    \"\"\"Get records from NCBI based on the search term.\n",
    "    \"\"\"\n",
    "    \n",
    "    Entrez.email = \"zed@uchicago.edu\"\n",
    "    handle = Entrez.esearch(\n",
    "        db=database, \n",
    "        term=[search_term], \n",
    "        retmax=retmax)\n",
    "\n",
    "    record = Entrez.read(handle)\n",
    "    handle.close()\n",
    "    handle = Entrez.efetch(db=database, id=record[\"IdList\"], retmode=\"xml\")\n",
    "    records = Entrez.read(handle)\n",
    "    \n",
    "    return records\n",
    "\n",
    "def procSequence(\n",
    "    records,\n",
    "    begIndex,\n",
    "    endIndex,\n",
    "    type_='nucleotide',\n",
    "    N=10000,\n",
    "    LMAX=35000):  \n",
    "\n",
    "\n",
    "    S=[]\n",
    "    ACC=[]\n",
    "    count=0\n",
    "    for i in records:\n",
    "        beg=[ x for x in item_generator(i,'GBInterval_from')][0]\n",
    "        end=[ x for x in item_generator(i,'GBInterval_to')][0]\n",
    "\n",
    "        dt=[]\n",
    "        for j in i['GBSeq_feature-table']:\n",
    "            if 'GBFeature_quals' in j:\n",
    "                for k in j['GBFeature_quals']:\n",
    "                    if k['GBQualifier_name'] == 'collection_date':\n",
    "                        dt.append(k['GBQualifier_value'][0])\n",
    "        \n",
    "        # i already added the code to parse the date\n",
    "        # pull sequences for each year\n",
    "        # simialrly prase the country \n",
    "        # and add code to pull sequnces for a specific \n",
    "        # year and specific hemisphere (northern vs southern)\n",
    "        # You have to map the country name to whether it is in the N vs S (find a way to do it)\n",
    "        print(dt)\n",
    "        \n",
    "        \n",
    "        if type_ == 'nucleotide':\n",
    "            seq=[ x for x in item_generator(i,'GBSeq_sequence')][0]\n",
    "        elif type_ == 'protein':\n",
    "            seq = []\n",
    "            for j in i['GBSeq_feature-table']:\n",
    "                if 'GBFeature_quals' in j:\n",
    "                    for k in j['GBFeature_quals']:\n",
    "                        if k['GBQualifier_name'] == 'translation':\n",
    "                            seq.append(k['GBQualifier_value'])\n",
    "            seq = seq[0]\n",
    "        else:\n",
    "            raise ValueError('Not an available type: {}'.format(type_))\n",
    "\n",
    "        acc=[ x for x in item_generator(i,'GBSeq_primary-accession')][0]\n",
    "        \n",
    "        xbeg=''.join('x' for i in np.arange(int(beg)))\n",
    "        xend=''.join('x' for i in np.arange(LMAX-int(end)))\n",
    "        seq=xbeg+seq+xend\n",
    "        seq=seq[begIndex:endIndex]\n",
    "        S=np.append(S,seq)\n",
    "        ACC=np.append(ACC,acc)\n",
    "        if count > N:\n",
    "            break\n",
    "        else:\n",
    "            count=count+1\n",
    "            \n",
    "    SF=pd.DataFrame([list(x) for x in S]).replace('x',np.nan)\n",
    "    SF['accession']=ACC\n",
    "    SF=SF.dropna(how='all',axis=1)\n",
    "    \n",
    "    return SF\n",
    "def item_generator(json_input, lookup_key):\n",
    "    if isinstance(json_input, dict):\n",
    "        for k, v in json_input.items():\n",
    "            if k == lookup_key:\n",
    "                yield v\n",
    "                break\n",
    "            else:\n",
    "                for child_val in item_generator(v, lookup_key):\n",
    "                    yield child_val\n",
    "                    break\n",
    "    elif isinstance(json_input, list):\n",
    "        for item in json_input:\n",
    "            for item_val in item_generator(item, lookup_key):\n",
    "                yield item_val\n",
    "                break\n",
    "                \n"
   ]
  },
  {
   "cell_type": "code",
   "execution_count": 70,
   "metadata": {},
   "outputs": [],
   "source": [
    "t='Influenza A HA'\n",
    "R=getRecord(t,retmax=20)"
   ]
  },
  {
   "cell_type": "code",
   "execution_count": 71,
   "metadata": {
    "scrolled": true
   },
   "outputs": [],
   "source": [
    "# records pull in XML formal, which has a lot of info including what we need\n",
    "# We need to parse out the sequence data\n",
    "# which is done by procSequence\n",
    "# We also need the *collection date* for our purpose\n",
    "# Please follow the code in procSequence to get the collection date as well\n",
    "R[0]"
   ]
  },
  {
   "cell_type": "code",
   "execution_count": 72,
   "metadata": {},
   "outputs": [
    {
     "name": "stdout",
     "output_type": "stream",
     "text": [
      "['21-Feb-2018']\n",
      "['21-Feb-2018']\n",
      "['21-Feb-2018']\n",
      "['21-Feb-2018']\n",
      "['21-Feb-2018']\n",
      "['21-Feb-2018']\n",
      "['22-Mar-2018']\n",
      "['21-Feb-2018']\n",
      "['22-Mar-2018']\n",
      "['22-Mar-2018']\n",
      "['18-Apr-2018']\n",
      "['21-Feb-2018']\n",
      "['22-Mar-2018']\n",
      "['21-Feb-2018']\n",
      "['21-Feb-2018']\n",
      "['18-Apr-2018']\n",
      "['18-Apr-2018']\n",
      "['09-May-2018']\n",
      "['18-Apr-2018']\n",
      "['22-Mar-2018']\n"
     ]
    }
   ],
   "source": [
    "# for Influenza A HA. Lookup the proc for NA in pull_sequence.py\n",
    "df = procSequence(\n",
    "            R,\n",
    "            begIndex=0,\n",
    "            endIndex=550,\n",
    "            type_='protein')"
   ]
  },
  {
   "cell_type": "code",
   "execution_count": 68,
   "metadata": {},
   "outputs": [
    {
     "data": {
      "text/plain": [
       "DictElement({'GBSeq_locus': 'MZ543285', 'GBSeq_length': '1714', 'GBSeq_strandedness': 'single', 'GBSeq_moltype': 'cRNA', 'GBSeq_topology': 'linear', 'GBSeq_division': 'VRL', 'GBSeq_update-date': '17-JUL-2021', 'GBSeq_create-date': '17-JUL-2021', 'GBSeq_definition': 'Influenza A virus (A/chicken/MUWRP-Uganda/830/2018(H9N2)) segment 4 hemagglutinin (HA) gene, complete cds', 'GBSeq_primary-accession': 'MZ543285', 'GBSeq_accession-version': 'MZ543285.1', 'GBSeq_other-seqids': ['gb|MZ543285.1|', 'gi|2065710251'], 'GBSeq_project': 'PRJNA430090', 'GBSeq_source': 'Influenza A virus', 'GBSeq_organism': 'Influenza A virus', 'GBSeq_taxonomy': 'Viruses; ssRNA viruses; ssRNA negative-strand viruses; Negarnaviricota; Polyploviricotina; Insthoviricetes; Articulavirales; Orthomyxoviridae; Alphainfluenzavirus', 'GBSeq_references': [DictElement({'GBReference_reference': '1', 'GBReference_position': '1..1714', 'GBReference_authors': ['Ducatez,M.', 'Kayali,G.', 'Byarugaba,D.', 'Djegui,F.', 'Go-Maro,E.', 'Siham,S.', 'Fellahi,F.', 'Webb,A.', 'Webby,R.'], 'GBReference_consortium': 'NIAID Centers of Excellence for Influenza Research and Surveillance (CEIRS)', 'GBReference_title': 'Direct Submission', 'GBReference_journal': 'Submitted (12-JUL-2021) CEIRS Data Processing and Coordinating Center, St. Jude Center of Excellence for Influenza Research and Surveillance (CEIRS), Memphis, TN 38105, USA'}, attributes={})], 'GBSeq_comment': 'This submission was made by the CEIRS Data Processing and Coordinating Center (DPCC) on behalf of the St. Jude Center of Excellence for Influenza Research and Surveillance (CEIRS). This work was supported by National Institute of Allergy and Infectious Diseases, National Institutes of Health, grant HHSN272201400006C.; ; ##Assembly-Data-START## ; Assembly Method :: CLC Workbench v. 20.0 ; Sequencing Technology :: Illumina ; ##Assembly-Data-END##', 'GBSeq_feature-table': [DictElement({'GBFeature_key': 'source', 'GBFeature_location': '1..1714', 'GBFeature_intervals': [DictElement({'GBInterval_from': '1', 'GBInterval_to': '1714', 'GBInterval_accession': 'MZ543285.1'}, attributes={})], 'GBFeature_quals': [DictElement({'GBQualifier_name': 'organism', 'GBQualifier_value': 'Influenza A virus'}, attributes={}), DictElement({'GBQualifier_name': 'mol_type', 'GBQualifier_value': 'viral cRNA'}, attributes={}), DictElement({'GBQualifier_name': 'strain', 'GBQualifier_value': 'A/chicken/MUWRP-Uganda/830/2018'}, attributes={}), DictElement({'GBQualifier_name': 'serotype', 'GBQualifier_value': 'H9N2'}, attributes={}), DictElement({'GBQualifier_name': 'isolation_source', 'GBQualifier_value': 'Combined cloacal and oral-pharyngeal'}, attributes={}), DictElement({'GBQualifier_name': 'host', 'GBQualifier_value': 'Gallus gallus'}, attributes={}), DictElement({'GBQualifier_name': 'db_xref', 'GBQualifier_value': 'taxon:11320'}, attributes={}), DictElement({'GBQualifier_name': 'segment', 'GBQualifier_value': '4'}, attributes={}), DictElement({'GBQualifier_name': 'country', 'GBQualifier_value': 'Uganda'}, attributes={}), DictElement({'GBQualifier_name': 'collection_date', 'GBQualifier_value': '21-Feb-2018'}, attributes={}), DictElement({'GBQualifier_name': 'note', 'GBQualifier_value': 'passage_history:E1'}, attributes={})]}, attributes={}), DictElement({'GBFeature_key': 'gene', 'GBFeature_location': '19..1701', 'GBFeature_intervals': [DictElement({'GBInterval_from': '19', 'GBInterval_to': '1701', 'GBInterval_accession': 'MZ543285.1'}, attributes={})], 'GBFeature_quals': [DictElement({'GBQualifier_name': 'gene', 'GBQualifier_value': 'HA'}, attributes={})]}, attributes={}), DictElement({'GBFeature_key': 'CDS', 'GBFeature_location': '19..1701', 'GBFeature_intervals': [DictElement({'GBInterval_from': '19', 'GBInterval_to': '1701', 'GBInterval_accession': 'MZ543285.1'}, attributes={})], 'GBFeature_quals': [DictElement({'GBQualifier_name': 'gene', 'GBQualifier_value': 'HA'}, attributes={}), DictElement({'GBQualifier_name': 'function', 'GBQualifier_value': 'receptor binding and fusion protein'}, attributes={}), DictElement({'GBQualifier_name': 'codon_start', 'GBQualifier_value': '1'}, attributes={}), DictElement({'GBQualifier_name': 'transl_table', 'GBQualifier_value': '1'}, attributes={}), DictElement({'GBQualifier_name': 'product', 'GBQualifier_value': 'hemagglutinin'}, attributes={}), DictElement({'GBQualifier_name': 'protein_id', 'GBQualifier_value': 'QXM00737.1'}, attributes={}), DictElement({'GBQualifier_name': 'translation', 'GBQualifier_value': 'MEAIPLLTLLLVVTTSSADKICVGHQSTNSTETVDTLTETNVPVTQAKELLHTEHNGMLCATNLGRPLILNTCTIEGLIYGNPSCDMLLGGREWSYIVERPSAVNGTCYPGNIENLEELRTLFSSSSSYQRIQLFPDTIWNVTYTGTSKSCSDSFYRNMRWLTQKNGLYPIQDAQYTNNRGKDILFVWGIHHPPTDTAQTNLYTRTDTTTSVTTENLDRTFKPLIGPRPLVNGLIGRINYYWSVLKPGQTLRVRSNGNLVAPWFGHVLSGESHGRILKTDLSSGNCVVQCQTEKGGLNSTLPFHNISKYAFGTCPKYIGVKSLKLAVGLRNVHARSSRGLFGAIAGFIEGGWPGLVAGWYGFQHSNDQGVGMAADRDSTQKAVDKITSKVNNIVDKMNKQYEIIDHEFSEVETRLNMINSKIDDQIQDIWAYNAELLVLLENQKTLDEHDANVNNLYNKVKRALGSNAMEDGKGCFELYHKCDDQCMETIRNGTYNRRKYTEESRLERQKIEGVKLESEGTYKILSIYSTVASSLVLAMGFAAFLFWAMSNGSCRCNICI'}, attributes={})]}, attributes={}), DictElement({'GBFeature_key': 'sig_peptide', 'GBFeature_location': '19..72', 'GBFeature_intervals': [DictElement({'GBInterval_from': '19', 'GBInterval_to': '72', 'GBInterval_accession': 'MZ543285.1'}, attributes={})], 'GBFeature_quals': [DictElement({'GBQualifier_name': 'gene', 'GBQualifier_value': 'HA'}, attributes={}), DictElement({'GBQualifier_name': 'peptide', 'GBQualifier_value': 'MEAIPLLTLLLVVTTSSA'}, attributes={})]}, attributes={}), DictElement({'GBFeature_key': 'mat_peptide', 'GBFeature_location': '73..1032', 'GBFeature_intervals': [DictElement({'GBInterval_from': '73', 'GBInterval_to': '1032', 'GBInterval_accession': 'MZ543285.1'}, attributes={})], 'GBFeature_quals': [DictElement({'GBQualifier_name': 'gene', 'GBQualifier_value': 'HA'}, attributes={}), DictElement({'GBQualifier_name': 'product', 'GBQualifier_value': 'HA1'}, attributes={}), DictElement({'GBQualifier_name': 'peptide', 'GBQualifier_value': 'DKICVGHQSTNSTETVDTLTETNVPVTQAKELLHTEHNGMLCATNLGRPLILNTCTIEGLIYGNPSCDMLLGGREWSYIVERPSAVNGTCYPGNIENLEELRTLFSSSSSYQRIQLFPDTIWNVTYTGTSKSCSDSFYRNMRWLTQKNGLYPIQDAQYTNNRGKDILFVWGIHHPPTDTAQTNLYTRTDTTTSVTTENLDRTFKPLIGPRPLVNGLIGRINYYWSVLKPGQTLRVRSNGNLVAPWFGHVLSGESHGRILKTDLSSGNCVVQCQTEKGGLNSTLPFHNISKYAFGTCPKYIGVKSLKLAVGLRNVHARSSR'}, attributes={})]}, attributes={}), DictElement({'GBFeature_key': 'mat_peptide', 'GBFeature_location': '1033..1698', 'GBFeature_intervals': [DictElement({'GBInterval_from': '1033', 'GBInterval_to': '1698', 'GBInterval_accession': 'MZ543285.1'}, attributes={})], 'GBFeature_quals': [DictElement({'GBQualifier_name': 'gene', 'GBQualifier_value': 'HA'}, attributes={}), DictElement({'GBQualifier_name': 'product', 'GBQualifier_value': 'HA2'}, attributes={}), DictElement({'GBQualifier_name': 'peptide', 'GBQualifier_value': 'GLFGAIAGFIEGGWPGLVAGWYGFQHSNDQGVGMAADRDSTQKAVDKITSKVNNIVDKMNKQYEIIDHEFSEVETRLNMINSKIDDQIQDIWAYNAELLVLLENQKTLDEHDANVNNLYNKVKRALGSNAMEDGKGCFELYHKCDDQCMETIRNGTYNRRKYTEESRLERQKIEGVKLESEGTYKILSIYSTVASSLVLAMGFAAFLFWAMSNGSCRCNICI'}, attributes={})]}, attributes={})], 'GBSeq_sequence': 'aatttcttaattatcaaaatggaggcaataccactgttgactctactactggtggtaacaacaagcagtgcagataagatctgcgtcggccaccaatcaacgaattcaacagaaactgtagacacgctaacagaaacaaatgttcctgtaacacaggctaaggaattgctccacacagagcacaatggaatgctatgtgcaaccaatttgggacgtcccctgatcctaaacacatgtaccattgaaggactgatctatggcaacccgtcttgtgacatgctgctgggaggaagggaatggtcctacatcgtcgaaagaccatcagcagtaaatggaacatgctaccctggaaatatagaaaacttagaggaacttagaacactttttagctcttctagctcctaccaaagaattcaactcttcccagacacaatctggaatgtgacttacactggaacaagcaaatcatgttcagattcattctataggaatatgagatggttaactcaaaagaatgggctttatccaattcaagacgcccaatacacaaacaatcggggaaaggacatccttttcgtgtggggtatacaccatccacctaccgatactgcacagacgaatttatacacaaggaccgacacaacaacaagcgtaacaactgagaatttagataggactttcaaaccactgatagggcctaggcctcttgtcaatggtctaattggaagaattaattactattggtcggtactaaaaccaggtcaaacattgcgagtaagatcaaatgggaacctagttgctccatggtttggacatgttctctcaggggagagccatgggagaatcctgaaaactgatttaagcagtggtaattgtgtggtacaatgtcaaactgaaaaaggtggcttaaacagtacgttgccatttcacaacatcagcaaatatgcatttgggacctgtcccaagtatattggagtaaagagtctcaaactggcagtcggtctgagaaacgtgcatgctagatcaagtagaggactattcggagcaatagctggattcatagaaggaggctggccaggactagttgccggttggtatggtttccagcactcaaatgatcaaggggttggtatggctgcagatagggattcaactcaaaaggcagttgacaaaattacctccaaggtgaataatatagtagacaagatgaacaagcaatatgaaataattgaccatgaattcagtgaagttgaaaccagactcaatatgatcaatagtaagattgatgaccaaatacaagacatatgggcatataatgcagagttgctagtactacttgagaatcaaaaaacactcgatgagcatgatgcaaacgtaaacaatctatacaacaaagtgaagagggccctgggctccaatgcaatggaagatggaaagggctgtttcgagctgtatcataaatgtgatgaccagtgcatggaaacgattcggaatggaacctataataggagaaagtatacagaggaatcaaggctggaaagacagaaaatagagggggttaaactggaatctgaagggacttacaaaatcctttccatttattcgactgtcgcctcatctcttgtacttgcaatggggtttgctgccttcttattctgggccatgtccaatggatcatgcagatgcaacatttgtatatagttagtaaaaacac', 'GBSeq_xrefs': [DictElement({'GBXref_dbname': 'BioProject', 'GBXref_id': 'PRJNA430090'}, attributes={})]}, attributes={})"
      ]
     },
     "execution_count": 68,
     "metadata": {},
     "output_type": "execute_result"
    }
   ],
   "source": []
  },
  {
   "cell_type": "code",
   "execution_count": null,
   "metadata": {},
   "outputs": [],
   "source": []
  }
 ],
 "metadata": {
  "kernelspec": {
   "display_name": "Python 3",
   "language": "python",
   "name": "python3"
  },
  "language_info": {
   "codemirror_mode": {
    "name": "ipython",
    "version": 3
   },
   "file_extension": ".py",
   "mimetype": "text/x-python",
   "name": "python",
   "nbconvert_exporter": "python",
   "pygments_lexer": "ipython3",
   "version": "3.7.1"
  }
 },
 "nbformat": 4,
 "nbformat_minor": 2
}
